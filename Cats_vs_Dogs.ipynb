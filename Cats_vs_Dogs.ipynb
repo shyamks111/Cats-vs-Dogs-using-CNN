{
  "nbformat": 4,
  "nbformat_minor": 0,
  "metadata": {
    "colab": {
      "name": "Cats vs Dogs.ipynb",
      "provenance": []
    },
    "kernelspec": {
      "name": "python3",
      "display_name": "Python 3"
    }
  },
  "cells": [
    {
      "cell_type": "markdown",
      "metadata": {
        "id": "w_JKjxkB-gQo"
      },
      "source": [
        "\r\n",
        "\r\n",
        "This is a simple classifier to classify cats and dogs using a Convolution Neural Network\r\n"
      ]
    },
    {
      "cell_type": "code",
      "metadata": {
        "id": "wOPIzNxrbrSI"
      },
      "source": [
        "import tensorflow as tf\r\n",
        "\r\n",
        "model = tf.keras.models.Sequential([\r\n",
        "                                    tf.keras.layers.Conv2D(16,(5,5),activation=\"relu\",input_shape=(512,512,3)),\r\n",
        "                                    tf.keras.layers.MaxPooling2D(2,2),\r\n",
        "                                    tf.keras.layers.Conv2D(32,(3,3),activation='relu'),\r\n",
        "                                    tf.keras.layers.MaxPooling2D(2,2),\r\n",
        "                                    tf.keras.layers.Conv2D(64,(3,3),activation='relu'),\r\n",
        "                                    tf.keras.layers.MaxPooling2D(2,2),\r\n",
        "                                    tf.keras.layers.Conv2D(64,(3,3),activation='relu'),\r\n",
        "                                    tf.keras.layers.MaxPooling2D(2,2),\r\n",
        "                                    tf.keras.layers.Conv2D(128,(3,3),activation='relu'),\r\n",
        "                                    tf.keras.layers.MaxPooling2D(2,2),\r\n",
        "                                    tf.keras.layers.Flatten(),\r\n",
        "                                    tf.keras.layers.Dense(512,activation='relu'),\r\n",
        "                                    tf.keras.layers.Dense(1,activation='sigmoid')\r\n",
        "])"
      ],
      "execution_count": null,
      "outputs": []
    },
    {
      "cell_type": "code",
      "metadata": {
        "id": "ZoSu1bR9-1A3"
      },
      "source": [
        "model.summary()"
      ],
      "execution_count": null,
      "outputs": []
    },
    {
      "cell_type": "code",
      "metadata": {
        "id": "5eJx3-DL-3CE"
      },
      "source": [
        "model.compile(optimizer='adam',loss='binary_crossentropy',metrics=['accuracy'])"
      ],
      "execution_count": null,
      "outputs": []
    },
    {
      "cell_type": "code",
      "metadata": {
        "colab": {
          "base_uri": "https://localhost:8080/"
        },
        "id": "dmT1NK_3eqnV",
        "outputId": "d020c11c-e919-4487-a31a-ffc1085f316e"
      },
      "source": [
        "from tensorflow.keras.preprocessing.image import ImageDataGenerator\r\n",
        "\r\n",
        "train_datagen = ImageDataGenerator(rescale=1/255,\r\n",
        "                                   horizontal_flip=True,\r\n",
        "                                   shear_range=0.2,\r\n",
        "                                   zoom_range=0.2)\r\n",
        "validation_datagen = ImageDataGenerator(rescale=1/255)\r\n",
        "\r\n",
        "train_generator = train_datagen.flow_from_directory(\r\n",
        "    'cats_dogs_v1/train',\r\n",
        "    target_size = (512,512),\r\n",
        "    batch_size = 128,\r\n",
        "    class_mode = 'binary'\r\n",
        ")\r\n",
        "\r\n",
        "validation_generator = validation_datagen.flow_from_directory(\r\n",
        "    'cats_dogs_v1/validation',\r\n",
        "    target_size = (512,512),\r\n",
        "    batch_size = 32,\r\n",
        "    class_mode = 'binary'\r\n",
        ")"
      ],
      "execution_count": null,
      "outputs": [
        {
          "output_type": "stream",
          "text": [
            "Found 2000 images belonging to 2 classes.\n",
            "Found 1992 images belonging to 2 classes.\n"
          ],
          "name": "stdout"
        }
      ]
    },
    {
      "cell_type": "code",
      "metadata": {
        "id": "wGDfq0IogVhS"
      },
      "source": [
        "import time\r\n",
        "\r\n",
        "time1 = time.time()\r\n",
        "history = model.fit(\r\n",
        "    train_generator,\r\n",
        "    steps_per_epoch=8,\r\n",
        "    epochs=100,\r\n",
        "    verbose=1,\r\n",
        "    validation_data = validation_generator,\r\n",
        "    validation_steps=32\r\n",
        "\r\n",
        ")\r\n",
        "time2 = time.time()\r\n",
        "print(\"Time Taken:\")\r\n",
        "print(time2-time1)"
      ],
      "execution_count": null,
      "outputs": []
    }
  ]
}
